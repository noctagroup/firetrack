{
 "cells": [
  {
   "cell_type": "markdown",
   "id": "fc790ff2-e940-4061-b7bb-bb0c1f8bf32b",
   "metadata": {},
   "source": [
    "# 1. Pegar as imagens"
   ]
  },
  {
   "cell_type": "code",
   "execution_count": 76,
   "id": "29cdb7da-f84b-40dd-8a85-83db0592bc97",
   "metadata": {},
   "outputs": [],
   "source": [
    "import pystac_client"
   ]
  },
  {
   "cell_type": "code",
   "execution_count": 77,
   "id": "5bb9210f-9804-4b72-a33a-edd15b5c9bee",
   "metadata": {},
   "outputs": [],
   "source": [
    "service = pystac_client.Client.open('https://data.inpe.br/bdc/stac/v1/')"
   ]
  },
  {
   "cell_type": "code",
   "execution_count": 78,
   "id": "195913d8-e3cc-4e96-af2d-f169657638c2",
   "metadata": {},
   "outputs": [],
   "source": [
    "collection = service.get_collection('CB4-WFI-L2-DN-1')"
   ]
  },
  {
   "cell_type": "code",
   "execution_count": 83,
   "id": "8b4a2031-e328-4bc8-bf75-d534778a332d",
   "metadata": {},
   "outputs": [],
   "source": [
    "item_search = service.search(\n",
    "    collections=['CB4-WFI-L2-DN-1'],\n",
    "    datetime=\"2023-01-01/2024-01-01\",\n",
    ")\n"
   ]
  },
  {
   "cell_type": "code",
   "execution_count": 84,
   "id": "c3df02ee-4eab-4cd3-b32a-08efb974a274",
   "metadata": {},
   "outputs": [],
   "source": [
    "import re\n",
    "import requests\n",
    "from PIL import Image\n",
    "from io import BytesIO\n",
    "import matplotlib.pyplot as plt"
   ]
  },
  {
   "cell_type": "code",
   "execution_count": 85,
   "id": "d9e7ec0d-ffdc-4720-88f4-48e12783591f",
   "metadata": {},
   "outputs": [],
   "source": [
    "pattern = re.compile(r\".*2023[0-9]{4}_168_117_L2$\")"
   ]
  },
  {
   "cell_type": "code",
   "execution_count": 86,
   "id": "69c95bbc-f550-4e5e-bb3d-a42642c6f348",
   "metadata": {},
   "outputs": [
    {
     "name": "stdout",
     "output_type": "stream",
     "text": [
      "https://data.inpe.br/bdc/data/cbers4/2023_11/CBERS_4_AWFI_DRD_2023_11_22.13_49_30_CB11/168_117_0/2_BC_UTM_WGS84/CBERS_4_AWFI_20231122_168_117.png\n",
      "https://data.inpe.br/bdc/data/cbers4/2023_01/CBERS_4_AWFI_DRD_2023_01_14.13_58_30_CB11/168_117_0/2_BC_UTM_WGS84/CBERS_4_AWFI_20230114_168_117.png\n"
     ]
    }
   ],
   "source": [
    "for item in item_search.items():\n",
    "    if re.match(pattern, item.id):\n",
    "        asset = item.assets.get(\"thumbnail\") or selected_item.assets.get(\"visual\")\n",
    "\n",
    "        if asset:\n",
    "            image_url = asset.href\n",
    "            print(image_url)\n",
    "            response = requests.get(image_url)\n",
    "            # img = Image.open(BytesIO(response.content))\n",
    "            # plt.imshow(img)\n",
    "            # plt.axis('off')\n",
    "            # plt.title(item.id)\n",
    "            # plt.show()"
   ]
  },
  {
   "cell_type": "code",
   "execution_count": null,
   "id": "b506b33b-1a93-40a4-bf9f-16b213e19c28",
   "metadata": {},
   "outputs": [],
   "source": []
  }
 ],
 "metadata": {
  "kernelspec": {
   "display_name": "Python 3 (ipykernel)",
   "language": "python",
   "name": "python3"
  },
  "language_info": {
   "codemirror_mode": {
    "name": "ipython",
    "version": 3
   },
   "file_extension": ".py",
   "mimetype": "text/x-python",
   "name": "python",
   "nbconvert_exporter": "python",
   "pygments_lexer": "ipython3",
   "version": "3.13.5"
  }
 },
 "nbformat": 4,
 "nbformat_minor": 5
}
